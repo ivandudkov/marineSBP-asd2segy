{
 "cells": [
  {
   "cell_type": "code",
   "execution_count": 1,
   "metadata": {},
   "outputs": [
    {
     "name": "stdout",
     "output_type": "stream",
     "text": [
      "Searching *.idx files in directory:D:\\ABP49_Processing\n"
     ]
    }
   ],
   "source": [
    "%load_ext autoreload\n",
    "%autoreload 2\n",
    "\n",
    "import os\n",
    "import numpy as np\n",
    "import matplotlib.pyplot as plt\n",
    "\n",
    "import file_ext_search as fes\n",
    "\n",
    "import asd\n",
    "import trace_proc\n",
    "\n",
    "idx_file2 = r'D:\\aa_yandexcloud\\MyProjects\\InspectingP70Data\\P70_data\\SEB\\PS3SLF_2021-09-17T110351Z_00047728.asd.acf.idx'\n",
    "acf_file2 = r'D:\\aa_yandexcloud\\MyProjects\\InspectingP70Data\\P70_data\\SEB\\PS3SLF_2021-09-17T110351Z_00047728.asd.acf'\n",
    "\n",
    "\n",
    "idx_file = r'D:\\aa_yandexcloud\\MyProjects\\InspectingP70Data\\P70_data\\SEB\\Prof2_abp56_Gd\\PS3SLF_2024-07-07T174231Z_07793648.asd.acf.idx'\n",
    "acf_file = r'D:\\aa_yandexcloud\\MyProjects\\InspectingP70Data\\P70_data\\SEB\\Prof2_abp56_Gd\\PS3SLF_2024-07-07T174231Z_07793648.asd.acf'\n",
    "\n",
    "idx_files_2 = [idx_file2, idx_file]\n",
    "\n",
    "datapath = 'D:\\ABP49_Processing'\n",
    "idx_files = fes.file_ext_search('.idx', datapath)"
   ]
  },
  {
   "cell_type": "code",
   "execution_count": null,
   "metadata": {},
   "outputs": [],
   "source": [
    "save_to = r'C:\\Data\\test\\ABP49_SLF.csv'\n",
    "\n",
    "for idx_file in idx_files:\n",
    "    pos_strings = trace_proc.get_pos_acf(idx_file)\n",
    "    \n",
    "    \n",
    "    if os.path.exists(save_to):\n",
    "        with open(save_to, 'a+') as f9:\n",
    "            for line in pos_strings:\n",
    "                f9.write(f'{line}\\n')\n",
    "    else:\n",
    "        with open(save_to, 'w') as f9:\n",
    "            f9.write('num,acf,asd,ISOdatetime,POSIXsec,lat,lon\\n')\n",
    "            \n",
    "            for line in pos_strings:\n",
    "                f9.write(f'{line}\\n')"
   ]
  },
  {
   "cell_type": "code",
   "execution_count": null,
   "metadata": {},
   "outputs": [],
   "source": [
    "print(pos_strings)"
   ]
  },
  {
   "cell_type": "code",
   "execution_count": 146,
   "metadata": {},
   "outputs": [],
   "source": [
    "espg_code = 32634  # UTM34N\n",
    "\n",
    "for file in idx_files_2[0:1]: \n",
    "    acf_file = file[:-4]   \n",
    "    asd_obj_list = asd.ASDfile.create_from_idx_file(file)\n",
    "\n",
    "    with open(acf_file, 'rb') as f1:\n",
    "        buffer = f1.read()    \n",
    "        \n",
    "    traces = []\n",
    "    start_times = []\n",
    "\n",
    "    delay = 0  # ms\n",
    "    trace_len = 250  # ms\n",
    "\n",
    "    num_of_traces = 0\n",
    "    dt = 0.082\n",
    "    \n",
    "    heave_array = None\n",
    "    \n",
    "    trace_num = 1\n",
    "    for obj in asd_obj_list[:]:\n",
    "    # for obj in asd_obj_list[:]:\n",
    "        if num_of_traces > 1800:\n",
    "            break\n",
    "        else:\n",
    "            asd.parse_xml_header(obj, buffer)\n",
    "            asd.parse_bin_header(obj, buffer)\n",
    "\n",
    "            for sounding in obj.soundings[:]:\n",
    "                trace: trace_proc.Trace\n",
    "                trace, envelope = trace_proc.proc_trace(trace_num, espg_code, sounding, obj, tracelen=trace_len, delay=delay)\n",
    "                # traces.append(envelope)\n",
    "                \n",
    "                traces.append(trace)\n",
    "                trace_num += 1\n"
   ]
  },
  {
   "cell_type": "markdown",
   "metadata": {},
   "source": [
    "## SEGY"
   ]
  },
  {
   "cell_type": "code",
   "execution_count": 97,
   "metadata": {},
   "outputs": [
    {
     "name": "stdout",
     "output_type": "stream",
     "text": [
      "1\n",
      "0.0\n"
     ]
    }
   ],
   "source": [
    "am = 0.7\n",
    "bm = 0.4\n",
    "\n",
    "print(int(np.rint(am)))\n",
    "print(np.rint(bm))"
   ]
  },
  {
   "cell_type": "code",
   "execution_count": 88,
   "metadata": {},
   "outputs": [
    {
     "name": "stderr",
     "output_type": "stream",
     "text": [
      "c:\\Users\\user\\.conda\\envs\\id1054\\Lib\\site-packages\\segyio\\utils.py:23: RuntimeWarning: Implicit conversion from float64 to float32 (narrowing)\n",
      "  warnings.warn(msg.format(x.dtype, dtype), RuntimeWarning)\n"
     ]
    }
   ],
   "source": [
    "import numpy as np\n",
    "\n",
    "import matplotlib.pyplot as plt\n",
    "import segyio\n",
    "\n",
    "\n",
    "sample_no = len(traces[0])\n",
    "\n",
    "class MySpec(object):\n",
    "    def __init__(self):\n",
    "        self.iline = 189  # default value for segyio\n",
    "        self.xline = 193  # default value for segyio\n",
    "        self.tracecount = 0\n",
    "        self.samples = []  # sample times, a list\n",
    "        self.ext_headers = 0\n",
    "        self.format = 5  # 4-byte IEEE float\n",
    "        self.endian = 'big'\n",
    "        \n",
    "path = r'C:\\Data\\test\\mytest14_new_HeaveAttitude.sgy'\n",
    "\n",
    "myspec = MySpec()\n",
    "\n",
    "myspec.tracecount = len(traces)\n",
    "myspec.samples = np.arange(delay,delay+trace_len+dt,dt)\n",
    "\n",
    "with segyio.create(path, myspec) as f5:\n",
    "    for num, trace in enumerate(traces):\n",
    "        f5.trace[num] = trace\n",
    "\n",
    "    # print(f5.header[0])\n",
    "    \n",
    "    "
   ]
  },
  {
   "cell_type": "code",
   "execution_count": 149,
   "metadata": {},
   "outputs": [
    {
     "name": "stderr",
     "output_type": "stream",
     "text": [
      "c:\\Users\\user\\.conda\\envs\\id1054\\Lib\\site-packages\\segyio\\utils.py:23: RuntimeWarning: Implicit conversion from float64 to float32 (narrowing)\n",
      "  warnings.warn(msg.format(x.dtype, dtype), RuntimeWarning)\n"
     ]
    }
   ],
   "source": [
    "# sample_no = len(traces[0])\n",
    "from trace_proc import int_header\n",
    "\n",
    "class MySpec(object):\n",
    "    def __init__(self):\n",
    "        self.iline = 189  # default value for segyio\n",
    "        self.xline = 193  # default value for segyio\n",
    "        self.tracecount = 0\n",
    "        self.samples = []  # sample times, a list\n",
    "        self.ext_headers = 0\n",
    "        self.format = 5  # 4-byte IEEE float\n",
    "        self.endian = 'big'\n",
    "        \n",
    "path = r'C:\\Data\\test\\mytest16_new_HeaveAttitude.sgy'\n",
    "\n",
    "myspec = MySpec()\n",
    "\n",
    "\n",
    "traces_2 = traces[0:1000]\n",
    "\n",
    "myspec.tracecount = len(traces_2)\n",
    "myspec.samples = np.arange(delay,delay+trace_len+dt,dt)\n",
    "\n",
    "with segyio.create(path, myspec) as f5:\n",
    "    trace: trace_proc.Trace\n",
    "    for num, trace in enumerate(traces_2):\n",
    "        f5.trace[num] = trace.data\n",
    "        \n",
    "        for key in int_header.keys():\n",
    "            f5.header[num][int_header[str(key)]] = trace.header[str(key)]\n",
    "        "
   ]
  },
  {
   "cell_type": "code",
   "execution_count": 131,
   "metadata": {},
   "outputs": [],
   "source": [
    "ke = {1: 123}\n",
    "# ke['am'] = 5"
   ]
  },
  {
   "cell_type": "code",
   "execution_count": 133,
   "metadata": {},
   "outputs": [
    {
     "name": "stdout",
     "output_type": "stream",
     "text": [
      "123\n"
     ]
    }
   ],
   "source": [
    "print(ke[1])"
   ]
  },
  {
   "cell_type": "code",
   "execution_count": null,
   "metadata": {},
   "outputs": [],
   "source": [
    "import numpy as np\n",
    "\n",
    "import matplotlib.pyplot as plt\n",
    "import segyio\n",
    "\n",
    "\n",
    "class MySpec(object):\n",
    "    def __init__(self):\n",
    "        self.iline = 189  # default value for segyio\n",
    "        self.xline = 193  # default value for segyio\n",
    "        self.tracecount = 0\n",
    "        self.samples = []  # sample times, a list\n",
    "        self.ext_headers = 0\n",
    "        self.format = 5  # 4-byte IEEE float\n",
    "        self.endian = 'big'\n",
    "\n",
    "def plot_rawtraces(raw_traces):\n",
    "    clip = 1e+3\n",
    "    vmin, vmax = -clip, clip\n",
    "\n",
    "    # Figure\n",
    "    figsize=(20, 20)\n",
    "    fig, axs = plt.subplots(nrows=1, ncols=1, figsize=figsize, facecolor='w', edgecolor='k',\n",
    "                        squeeze=False,\n",
    "                        sharex=True)\n",
    "    axs = axs.ravel()\n",
    "    im = axs[0].imshow(raw_traces.T, cmap=plt.cm.seismic, vmin=vmin, vmax=vmax)\n",
    "    plt.show()\n",
    "\n",
    "\n",
    "path = r'D:\\aa_yandexcloud\\MyProjects\\InspectingP70Data\\P70_data\\Profile-0_W1_SLF2109171103_LL_car.sgy'\n",
    "\n",
    "\n",
    "with segyio.open(filename=path, mode=\"r\",\n",
    "                            strict = False,\n",
    "                            ignore_geometry = True,\n",
    "                            endian = 'big') as f:\n",
    "    # print(np.shape(f.trace.raw[:]))\n",
    "    # plot_rawtraces(f.trace.raw[:])\n",
    "    \n",
    "    print('\\n_____SEG-Y FILE____\\n')\n",
    "    \n",
    "    print(f'Sample format: {f.format}')\n",
    "    print(f'Sample count: {len(f.samples)}')\n",
    "    print(f'Trace count: {f.tracecount}')\n",
    "    \n",
    "    \n",
    "    # modes are: .trace, .header, .iline/xline, .fast/slow, .depth_slice\n",
    "    # .gather, .text, .bin\n",
    "    \n",
    "    # 2D seismic profiles are unstructured files\n",
    "    # .trace and .header are the only modes available for unstructured files\n",
    "    # traces are enumerated: 0..len(f.trace)\n",
    "    # .trace mode - offers raw adressing of traces as they are laid out in the file\n",
    "    # Reading a trace yields a numpy ndarray, and\n",
    "    # reading multiple traces yields a generator of ndarray's\n",
    "    \n",
    "    # .header mode - accessing items yield header objects instead of numpy ndarray\n",
    "    # Headers are dict-like objects, where\n",
    "    # keys are integers, seismic unix-style keys and segyio enums\n",
    "    \n",
    "    print(f.samples)\n",
    "    print(f.trace)\n",
    "    print(f.trace[0])\n",
    "    # print(f'{f.bin}')\n",
    "    # print(f.text[0])\n",
    "    # print(f'DELAY (109 byte): {f.header[0]['109']}')\n",
    "    # print(len(f.header))\n",
    "    # print(len(f.trace))\n",
    "    # print('\\n')\n",
    "    # print(f.trace)\n",
    "    # print(f.header)\n",
    "    # print(len(f.samples))\n",
    "    # print(type(np.fromiter(f.trace[:])))\n",
    "    # print(np.fromiter(f.trace[:], dtype=np.dtype((float, len(f.samples)))))\n",
    "    # plot_rawtraces(np.fromiter(f.trace[:], dtype=np.dtype((float, len(f.samples)))))"
   ]
  },
  {
   "cell_type": "code",
   "execution_count": null,
   "metadata": {},
   "outputs": [],
   "source": []
  }
 ],
 "metadata": {
  "kernelspec": {
   "display_name": "id_13pc",
   "language": "python",
   "name": "python3"
  },
  "language_info": {
   "codemirror_mode": {
    "name": "ipython",
    "version": 3
   },
   "file_extension": ".py",
   "mimetype": "text/x-python",
   "name": "python",
   "nbconvert_exporter": "python",
   "pygments_lexer": "ipython3",
   "version": "3.11.0"
  }
 },
 "nbformat": 4,
 "nbformat_minor": 2
}
