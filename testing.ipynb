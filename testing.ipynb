{
 "cells": [
  {
   "cell_type": "code",
   "execution_count": 6,
   "metadata": {},
   "outputs": [
    {
     "name": "stdout",
     "output_type": "stream",
     "text": [
      "The autoreload extension is already loaded. To reload it, use:\n",
      "  %reload_ext autoreload\n"
     ]
    }
   ],
   "source": [
    "%load_ext autoreload\n",
    "%autoreload 2\n",
    "\n",
    "import os\n",
    "import numpy as np\n",
    "import matplotlib.pyplot as plt\n",
    "from pyproj import Proj, CRS, Transformer\n",
    "import segyio\n",
    "\n",
    "import file_ext_search as fes\n",
    "\n",
    "import asd\n",
    "import trace_proc\n",
    "\n",
    "\n",
    "class MySpec(object):\n",
    "    def __init__(self):\n",
    "        self.iline = 189  # default value for segyio\n",
    "        self.xline = 193  # default value for segyio\n",
    "        self.tracecount = 0\n",
    "        self.samples = []  # sample times, a list\n",
    "        self.ext_headers = 0\n",
    "        self.format = 1  # 1 - IBM Float; 5 - 4-byte IEEE float\n",
    "        self.endian = 'big'\n",
    "\n",
    "idx_file2 = r'C:\\YandexDisk\\MyProjects\\InspectingP70Data\\P70_data\\SEB\\PS3SLF_2021-09-17T110351Z_00047728.asd.acf.idx'\n",
    "acf_file2 = r'C:\\YandexDisk\\MyProjects\\InspectingP70Data\\P70_data\\SEB\\PS3SLF_2021-09-17T110351Z_00047728.asd.acf'\n",
    "\n",
    "\n",
    "idx_file = r'C:\\YandexDisk\\MyProjects\\InspectingP70Data\\P70_data\\SEB\\Prof2_abp56_Gd\\PS3SLF_2024-07-07T174231Z_07793648.asd.acf.idx'\n",
    "acf_file = r'C:\\YandexDisk\\MyProjects\\InspectingP70Data\\P70_data\\SEB\\Prof2_abp56_Gd\\PS3SLF_2024-07-07T174231Z_07793648.asd.acf'\n",
    "\n",
    "idx_files_2 = [idx_file2, idx_file]\n",
    "\n",
    "# datapath = r'D:\\ABP49_Processing\\abp49_GdGot'\n",
    "# idx_files_list = fes.file_ext_search('.idx', datapath)"
   ]
  },
  {
   "cell_type": "code",
   "execution_count": 34,
   "metadata": {},
   "outputs": [
    {
     "name": "stdout",
     "output_type": "stream",
     "text": [
      "Converting file 0 of 1\n"
     ]
    },
    {
     "ename": "IndexError",
     "evalue": "list index out of range",
     "output_type": "error",
     "traceback": [
      "\u001b[1;31m---------------------------------------------------------------------------\u001b[0m",
      "\u001b[1;31mIndexError\u001b[0m                                Traceback (most recent call last)",
      "Cell \u001b[1;32mIn[34], line 45\u001b[0m\n\u001b[0;32m     41\u001b[0m                 \u001b[38;5;28;01mfor\u001b[39;00m key \u001b[38;5;129;01min\u001b[39;00m int_header\u001b[38;5;241m.\u001b[39mkeys():\n\u001b[0;32m     42\u001b[0m                     f5\u001b[38;5;241m.\u001b[39mheader[num][int_header[\u001b[38;5;28mstr\u001b[39m(key)]] \u001b[38;5;241m=\u001b[39m trace\u001b[38;5;241m.\u001b[39mheader[\u001b[38;5;28mstr\u001b[39m(key)]\n\u001b[1;32m---> 45\u001b[0m \u001b[43mtask\u001b[49m\u001b[43m(\u001b[49m\u001b[43midx_files\u001b[49m\u001b[38;5;241;43m=\u001b[39;49m\u001b[43midx_files_2\u001b[49m\u001b[43m[\u001b[49m\u001b[38;5;241;43m1\u001b[39;49m\u001b[43m:\u001b[49m\u001b[38;5;241;43m2\u001b[39;49m\u001b[43m]\u001b[49m\u001b[43m)\u001b[49m\n",
      "Cell \u001b[1;32mIn[34], line 32\u001b[0m, in \u001b[0;36mtask\u001b[1;34m(idx_files)\u001b[0m\n\u001b[0;32m     30\u001b[0m myspec \u001b[38;5;241m=\u001b[39m MySpec()\n\u001b[0;32m     31\u001b[0m myspec\u001b[38;5;241m.\u001b[39mtracecount \u001b[38;5;241m=\u001b[39m \u001b[38;5;28mlen\u001b[39m(traces)\n\u001b[1;32m---> 32\u001b[0m myspec\u001b[38;5;241m.\u001b[39msamples \u001b[38;5;241m=\u001b[39m np\u001b[38;5;241m.\u001b[39marange(delay,delay\u001b[38;5;241m+\u001b[39mtracelen\u001b[38;5;241m+\u001b[39m\u001b[43mtraces\u001b[49m\u001b[43m[\u001b[49m\u001b[38;5;241;43m0\u001b[39;49m\u001b[43m]\u001b[49m\u001b[38;5;241m.\u001b[39mdt\u001b[38;5;241m*\u001b[39m\u001b[38;5;241m1000\u001b[39m,traces[\u001b[38;5;241m0\u001b[39m]\u001b[38;5;241m.\u001b[39mdt\u001b[38;5;241m*\u001b[39m\u001b[38;5;241m1000\u001b[39m)\n\u001b[0;32m     34\u001b[0m fname \u001b[38;5;241m=\u001b[39m traces[\u001b[38;5;241m0\u001b[39m]\u001b[38;5;241m.\u001b[39macf[:\u001b[38;5;241m-\u001b[39m\u001b[38;5;241m8\u001b[39m] \u001b[38;5;241m+\u001b[39m \u001b[38;5;124m'\u001b[39m\u001b[38;5;124m.sgy\u001b[39m\u001b[38;5;124m'\u001b[39m\n\u001b[0;32m     35\u001b[0m save_to \u001b[38;5;241m=\u001b[39m os\u001b[38;5;241m.\u001b[39mpath\u001b[38;5;241m.\u001b[39mjoin(path, fname)\n",
      "\u001b[1;31mIndexError\u001b[0m: list index out of range"
     ]
    }
   ],
   "source": [
    "# OLD STABLE VERSION\n",
    "\n",
    "path = r'C:\\Data\\P70_Converter_Testing'\n",
    "from trace_proc import int_header\n",
    "\n",
    "\n",
    "import threading\n",
    "import os\n",
    "\n",
    "# Coords\n",
    "espg_code = 32634  # UTM34N\n",
    "crs_wgs84 = CRS.from_epsg(4326)\n",
    "crs_xy = CRS.from_epsg(espg_code)\n",
    "coord_transf = Transformer.from_crs(crs_wgs84, crs_xy, always_xy=True)\n",
    "\n",
    "delay = 0\n",
    "tracelen = 250\n",
    "\n",
    "\n",
    "\n",
    "def task(idx_files):\n",
    "    \n",
    "    file_count = len(idx_files)\n",
    "    \n",
    "    for no, idx_file in enumerate(idx_files):\n",
    "        print(f'Converting file {no} of {file_count}')\n",
    "    \n",
    "        traces = trace_proc.get_traces(idx_file, coord_transf, delay=delay, tracelen=tracelen)\n",
    "\n",
    "        myspec = MySpec()\n",
    "        myspec.tracecount = len(traces)\n",
    "        myspec.samples = np.arange(delay,delay+tracelen+traces[0].dt*1000,traces[0].dt*1000)\n",
    "        \n",
    "        fname = traces[0].acf[:-8] + '.sgy'\n",
    "        save_to = os.path.join(path, fname)\n",
    "\n",
    "        with segyio.create(save_to, myspec) as f5:\n",
    "            for num, trace in enumerate(traces):\n",
    "                f5.trace[num] = trace.data\n",
    "                \n",
    "                for key in int_header.keys():\n",
    "                    f5.header[num][int_header[str(key)]] = trace.header[str(key)]\n",
    "\n",
    "\n",
    "task(idx_files=idx_files_2[1:2])\n"
   ]
  },
  {
   "cell_type": "markdown",
   "metadata": {},
   "source": [
    "## POS EXPORT FROM ACF"
   ]
  },
  {
   "cell_type": "code",
   "execution_count": 15,
   "metadata": {},
   "outputs": [],
   "source": [
    "save_to = r'C:\\Data\\test\\ABP49_SLF.csv'\n",
    "\n",
    "for idx_file in idx_files:\n",
    "    pos_strings = trace_proc.get_pos_acf(idx_file)\n",
    "    \n",
    "    \n",
    "    if os.path.exists(save_to):\n",
    "        with open(save_to, 'a+') as f9:\n",
    "            for line in pos_strings:\n",
    "                f9.write(f'{line}\\n')\n",
    "    else:\n",
    "        with open(save_to, 'w') as f9:\n",
    "            f9.write('num,acf,asd,ISOdatetime,POSIXsec,lat,lon\\n')\n",
    "            \n",
    "            for line in pos_strings:\n",
    "                f9.write(f'{line}\\n')\n",
    "        "
   ]
  },
  {
   "cell_type": "code",
   "execution_count": null,
   "metadata": {},
   "outputs": [],
   "source": []
  }
 ],
 "metadata": {
  "kernelspec": {
   "display_name": "id_13pc",
   "language": "python",
   "name": "python3"
  },
  "language_info": {
   "codemirror_mode": {
    "name": "ipython",
    "version": 3
   },
   "file_extension": ".py",
   "mimetype": "text/x-python",
   "name": "python",
   "nbconvert_exporter": "python",
   "pygments_lexer": "ipython3",
   "version": "3.11.0"
  }
 },
 "nbformat": 4,
 "nbformat_minor": 2
}
