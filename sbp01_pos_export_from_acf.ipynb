{
 "cells": [
  {
   "cell_type": "code",
   "execution_count": 1,
   "metadata": {},
   "outputs": [
    {
     "name": "stdout",
     "output_type": "stream",
     "text": [
      "Searching *.idx files in directory:G:\\ABP_48\\Parasound\\ABP48\\ASD\\SLF\n"
     ]
    }
   ],
   "source": [
    "%load_ext autoreload\n",
    "%autoreload 2\n",
    "\n",
    "import os\n",
    "import numpy as np\n",
    "import matplotlib.pyplot as plt\n",
    "from pyproj import Proj, CRS, Transformer\n",
    "import segyio\n",
    "\n",
    "import file_ext_search as fes\n",
    "\n",
    "import asd\n",
    "import trace_proc\n",
    "\n",
    "\n",
    "class MySpec(object):\n",
    "    def __init__(self):\n",
    "        self.iline = 189  # default value for segyio\n",
    "        self.xline = 193  # default value for segyio\n",
    "        self.tracecount = 0\n",
    "        self.samples = []  # sample times, a list\n",
    "        self.ext_headers = 0\n",
    "        self.format = 1  # 1 - IBM Float; 5 - 4-byte IEEE float\n",
    "        self.endian = 'big'\n",
    "\n",
    "idx_file2 = r'D:\\aa_yandexcloud\\MyProjects\\InspectingP70Data\\P70_data\\SEB\\PS3SLF_2021-09-17T110351Z_00047728.asd.acf.idx'\n",
    "acf_file2 = r'D:\\aa_yandexcloud\\MyProjects\\InspectingP70Data\\P70_data\\SEB\\PS3SLF_2021-09-17T110351Z_00047728.asd.acf'\n",
    "\n",
    "\n",
    "idx_file = r'D:\\aa_yandexcloud\\MyProjects\\InspectingP70Data\\P70_data\\SEB\\Prof2_abp56_Gd\\PS3SLF_2024-07-07T174231Z_07793648.asd.acf.idx'\n",
    "acf_file = r'D:\\aa_yandexcloud\\MyProjects\\InspectingP70Data\\P70_data\\SEB\\Prof2_abp56_Gd\\PS3SLF_2024-07-07T174231Z_07793648.asd.acf'\n",
    "\n",
    "idx_files_2 = [idx_file2, idx_file]\n",
    "\n",
    "datapath = r'G:\\ABP_48\\Parasound\\ABP48\\ASD\\SLF'\n",
    "idx_files_list = fes.file_ext_search('.idx', datapath)"
   ]
  },
  {
   "cell_type": "code",
   "execution_count": null,
   "metadata": {},
   "outputs": [],
   "source": [
    "save_to = r'C:\\Data\\test\\ABP48_SLF.csv'\n",
    "\n",
    "for idx_file in idx_files_list:\n",
    "    pos_strings = trace_proc.get_pos_acf(idx_file)\n",
    "    \n",
    "    \n",
    "    if os.path.exists(save_to):\n",
    "        with open(save_to, 'a+') as f9:\n",
    "            for line in pos_strings:\n",
    "                f9.write(f'{line}\\n')\n",
    "    else:\n",
    "        with open(save_to, 'w') as f9:\n",
    "            f9.write('num,acf,asd,ISOdatetime,POSIXsec,lat,lon\\n')\n",
    "            \n",
    "            for line in pos_strings:\n",
    "                f9.write(f'{line}\\n')"
   ]
  }
 ],
 "metadata": {
  "kernelspec": {
   "display_name": "id1054",
   "language": "python",
   "name": "python3"
  },
  "language_info": {
   "codemirror_mode": {
    "name": "ipython",
    "version": 3
   },
   "file_extension": ".py",
   "mimetype": "text/x-python",
   "name": "python",
   "nbconvert_exporter": "python",
   "pygments_lexer": "ipython3",
   "version": "3.11.0"
  }
 },
 "nbformat": 4,
 "nbformat_minor": 2
}
